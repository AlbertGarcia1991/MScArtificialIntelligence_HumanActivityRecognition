{
 "cells": [
  {
   "cell_type": "markdown",
   "metadata": {},
   "source": [
    "# <center>City, University of London - MSc Artificial Intelligence\n",
    "# <center>INM701 - COURSEWORK\n",
    "## LSTM algorithm\n",
    "### Student:\n",
    ">García Plaza, Albert\n",
    "\n",
    "***\n",
    "\n",
    "The present notebook has been written in order to classify the data using a Random Forest classifier.\n",
    "Feature reduction techniques have been applied to decrease the sparsity of our data-set. Furthermore, we fine-tune a Random Forest Classifier for human activity recognition problem using techniques such as Randomised Cross Validation Search, Grid Search, and finally, we compare our results by observing the confusion matrix and F1-scores."
   ]
  },
  {
   "cell_type": "code",
   "execution_count": 1,
   "metadata": {},
   "outputs": [],
   "source": [
    "import pandas as pd\n",
    "import numpy as np\n",
    "import sys\n",
    "import os\n",
    "CURRENT_DIR=os.getcwd()\n",
    "FILE_PATH_OF_DATA='processed_data/nontemportal_principal_features_axis.pkl'\n",
    "FILE_PATH_OF_FEATURE_SELECTOR=CURRENT_DIR+'/feature-selector'\n",
    "sys.path.insert(1, FILE_PATH_OF_FEATURE_SELECTOR)"
   ]
  },
  {
   "cell_type": "code",
   "execution_count": 2,
   "metadata": {},
   "outputs": [],
   "source": [
    "# Read the data\n",
    "df=pd.read_pickle(FILE_PATH_OF_DATA)"
   ]
  },
  {
   "cell_type": "code",
   "execution_count": 3,
   "metadata": {},
   "outputs": [
    {
     "name": "stdout",
     "output_type": "stream",
     "text": [
      "Before dropping NaNs, length= 11713\n",
      "After dropping NaNs, length = 11713\n",
      "0 records dropped\n"
     ]
    }
   ],
   "source": [
    "# Dropping NaNs\n",
    "print('Before dropping NaNs, length= ' + str(df.shape[0]))\n",
    "print('After dropping NaNs, length = ' +str(df.dropna().shape[0]))\n",
    "print(str(df.shape[0]-df.dropna().shape[0]) + ' records dropped')\n",
    "df=df.dropna().reset_index(drop=True)"
   ]
  },
  {
   "cell_type": "code",
   "execution_count": 4,
   "metadata": {},
   "outputs": [
    {
     "data": {
      "text/html": [
       "<div>\n",
       "<style scoped>\n",
       "    .dataframe tbody tr th:only-of-type {\n",
       "        vertical-align: middle;\n",
       "    }\n",
       "\n",
       "    .dataframe tbody tr th {\n",
       "        vertical-align: top;\n",
       "    }\n",
       "\n",
       "    .dataframe thead th {\n",
       "        text-align: right;\n",
       "    }\n",
       "</style>\n",
       "<table border=\"1\" class=\"dataframe\">\n",
       "  <thead>\n",
       "    <tr style=\"text-align: right;\">\n",
       "      <th></th>\n",
       "      <th>user</th>\n",
       "      <th>mean_P_LO_x</th>\n",
       "      <th>mean_P_LO_y</th>\n",
       "      <th>mean_P_LO_z</th>\n",
       "      <th>mean_P_LA_x</th>\n",
       "      <th>mean_P_LA_y</th>\n",
       "      <th>mean_P_LA_z</th>\n",
       "      <th>mean_P_LV_x</th>\n",
       "      <th>mean_P_LV_y</th>\n",
       "      <th>mean_P_LV_z</th>\n",
       "      <th>...</th>\n",
       "      <th>med_W_AO_x</th>\n",
       "      <th>med_W_AO_y</th>\n",
       "      <th>med_W_AO_z</th>\n",
       "      <th>med_W_AA_x</th>\n",
       "      <th>med_W_AA_y</th>\n",
       "      <th>med_W_AA_z</th>\n",
       "      <th>med_W_AV_x</th>\n",
       "      <th>med_W_AV_y</th>\n",
       "      <th>med_W_AV_z</th>\n",
       "      <th>activity</th>\n",
       "    </tr>\n",
       "  </thead>\n",
       "  <tbody>\n",
       "    <tr>\n",
       "      <th>count</th>\n",
       "      <td>11713.000000</td>\n",
       "      <td>11713.000000</td>\n",
       "      <td>11713.000000</td>\n",
       "      <td>11713.000000</td>\n",
       "      <td>11713.000000</td>\n",
       "      <td>11713.000000</td>\n",
       "      <td>11713.000000</td>\n",
       "      <td>11713.000000</td>\n",
       "      <td>11713.000000</td>\n",
       "      <td>11713.000000</td>\n",
       "      <td>...</td>\n",
       "      <td>11713.000000</td>\n",
       "      <td>11713.000000</td>\n",
       "      <td>11713.000000</td>\n",
       "      <td>11713.000000</td>\n",
       "      <td>11713.000000</td>\n",
       "      <td>11713.000000</td>\n",
       "      <td>11713.000000</td>\n",
       "      <td>11713.000000</td>\n",
       "      <td>11713.000000</td>\n",
       "      <td>11713.000000</td>\n",
       "    </tr>\n",
       "    <tr>\n",
       "      <th>mean</th>\n",
       "      <td>24.864595</td>\n",
       "      <td>0.080631</td>\n",
       "      <td>0.135269</td>\n",
       "      <td>-0.059264</td>\n",
       "      <td>0.002744</td>\n",
       "      <td>0.074057</td>\n",
       "      <td>0.097901</td>\n",
       "      <td>-0.037435</td>\n",
       "      <td>-0.122667</td>\n",
       "      <td>0.209347</td>\n",
       "      <td>...</td>\n",
       "      <td>-0.115606</td>\n",
       "      <td>0.073965</td>\n",
       "      <td>0.246505</td>\n",
       "      <td>0.016049</td>\n",
       "      <td>0.002829</td>\n",
       "      <td>-0.137880</td>\n",
       "      <td>-0.000160</td>\n",
       "      <td>0.013133</td>\n",
       "      <td>0.306347</td>\n",
       "      <td>8.529412</td>\n",
       "    </tr>\n",
       "    <tr>\n",
       "      <th>std</th>\n",
       "      <td>14.723427</td>\n",
       "      <td>0.000243</td>\n",
       "      <td>0.000331</td>\n",
       "      <td>0.000171</td>\n",
       "      <td>0.067101</td>\n",
       "      <td>0.088439</td>\n",
       "      <td>0.068144</td>\n",
       "      <td>0.201065</td>\n",
       "      <td>0.191047</td>\n",
       "      <td>0.156459</td>\n",
       "      <td>...</td>\n",
       "      <td>0.001048</td>\n",
       "      <td>0.001909</td>\n",
       "      <td>0.001310</td>\n",
       "      <td>0.001731</td>\n",
       "      <td>0.003569</td>\n",
       "      <td>0.003093</td>\n",
       "      <td>0.005264</td>\n",
       "      <td>0.008963</td>\n",
       "      <td>0.010669</td>\n",
       "      <td>5.196318</td>\n",
       "    </tr>\n",
       "    <tr>\n",
       "      <th>min</th>\n",
       "      <td>0.000000</td>\n",
       "      <td>0.076487</td>\n",
       "      <td>0.130469</td>\n",
       "      <td>-0.061683</td>\n",
       "      <td>-0.127564</td>\n",
       "      <td>-0.083246</td>\n",
       "      <td>-0.064444</td>\n",
       "      <td>-0.638404</td>\n",
       "      <td>-0.603061</td>\n",
       "      <td>-0.329280</td>\n",
       "      <td>...</td>\n",
       "      <td>-0.126946</td>\n",
       "      <td>0.048016</td>\n",
       "      <td>0.232853</td>\n",
       "      <td>0.000246</td>\n",
       "      <td>-0.035686</td>\n",
       "      <td>-0.167692</td>\n",
       "      <td>-0.053521</td>\n",
       "      <td>-0.055623</td>\n",
       "      <td>0.195787</td>\n",
       "      <td>0.000000</td>\n",
       "    </tr>\n",
       "    <tr>\n",
       "      <th>25%</th>\n",
       "      <td>12.000000</td>\n",
       "      <td>0.080614</td>\n",
       "      <td>0.135252</td>\n",
       "      <td>-0.059277</td>\n",
       "      <td>-0.043081</td>\n",
       "      <td>-0.012952</td>\n",
       "      <td>0.060048</td>\n",
       "      <td>-0.145478</td>\n",
       "      <td>-0.246488</td>\n",
       "      <td>0.136031</td>\n",
       "      <td>...</td>\n",
       "      <td>-0.115808</td>\n",
       "      <td>0.073638</td>\n",
       "      <td>0.246139</td>\n",
       "      <td>0.015795</td>\n",
       "      <td>0.003052</td>\n",
       "      <td>-0.137811</td>\n",
       "      <td>-0.000885</td>\n",
       "      <td>0.011567</td>\n",
       "      <td>0.304155</td>\n",
       "      <td>4.000000</td>\n",
       "    </tr>\n",
       "    <tr>\n",
       "      <th>50%</th>\n",
       "      <td>25.000000</td>\n",
       "      <td>0.080631</td>\n",
       "      <td>0.135268</td>\n",
       "      <td>-0.059264</td>\n",
       "      <td>0.002441</td>\n",
       "      <td>0.065141</td>\n",
       "      <td>0.092153</td>\n",
       "      <td>-0.038784</td>\n",
       "      <td>-0.129722</td>\n",
       "      <td>0.194861</td>\n",
       "      <td>...</td>\n",
       "      <td>-0.115622</td>\n",
       "      <td>0.073698</td>\n",
       "      <td>0.246178</td>\n",
       "      <td>0.016084</td>\n",
       "      <td>0.003323</td>\n",
       "      <td>-0.137416</td>\n",
       "      <td>0.000170</td>\n",
       "      <td>0.012026</td>\n",
       "      <td>0.304566</td>\n",
       "      <td>9.000000</td>\n",
       "    </tr>\n",
       "    <tr>\n",
       "      <th>75%</th>\n",
       "      <td>37.000000</td>\n",
       "      <td>0.080649</td>\n",
       "      <td>0.135287</td>\n",
       "      <td>-0.059251</td>\n",
       "      <td>0.053586</td>\n",
       "      <td>0.132739</td>\n",
       "      <td>0.143199</td>\n",
       "      <td>0.077824</td>\n",
       "      <td>-0.016198</td>\n",
       "      <td>0.282449</td>\n",
       "      <td>...</td>\n",
       "      <td>-0.115450</td>\n",
       "      <td>0.073860</td>\n",
       "      <td>0.246523</td>\n",
       "      <td>0.016308</td>\n",
       "      <td>0.003432</td>\n",
       "      <td>-0.137336</td>\n",
       "      <td>0.000868</td>\n",
       "      <td>0.012810</td>\n",
       "      <td>0.305847</td>\n",
       "      <td>13.000000</td>\n",
       "    </tr>\n",
       "    <tr>\n",
       "      <th>max</th>\n",
       "      <td>50.000000</td>\n",
       "      <td>0.084476</td>\n",
       "      <td>0.140509</td>\n",
       "      <td>-0.057013</td>\n",
       "      <td>0.153437</td>\n",
       "      <td>0.243392</td>\n",
       "      <td>0.235834</td>\n",
       "      <td>0.593941</td>\n",
       "      <td>0.404195</td>\n",
       "      <td>0.717016</td>\n",
       "      <td>...</td>\n",
       "      <td>-0.101579</td>\n",
       "      <td>0.110187</td>\n",
       "      <td>0.257109</td>\n",
       "      <td>0.030638</td>\n",
       "      <td>0.035550</td>\n",
       "      <td>-0.111932</td>\n",
       "      <td>0.037756</td>\n",
       "      <td>0.087049</td>\n",
       "      <td>0.386481</td>\n",
       "      <td>17.000000</td>\n",
       "    </tr>\n",
       "  </tbody>\n",
       "</table>\n",
       "<p>8 rows × 110 columns</p>\n",
       "</div>"
      ],
      "text/plain": [
       "               user   mean_P_LO_x   mean_P_LO_y   mean_P_LO_z   mean_P_LA_x  \\\n",
       "count  11713.000000  11713.000000  11713.000000  11713.000000  11713.000000   \n",
       "mean      24.864595      0.080631      0.135269     -0.059264      0.002744   \n",
       "std       14.723427      0.000243      0.000331      0.000171      0.067101   \n",
       "min        0.000000      0.076487      0.130469     -0.061683     -0.127564   \n",
       "25%       12.000000      0.080614      0.135252     -0.059277     -0.043081   \n",
       "50%       25.000000      0.080631      0.135268     -0.059264      0.002441   \n",
       "75%       37.000000      0.080649      0.135287     -0.059251      0.053586   \n",
       "max       50.000000      0.084476      0.140509     -0.057013      0.153437   \n",
       "\n",
       "        mean_P_LA_y   mean_P_LA_z   mean_P_LV_x   mean_P_LV_y   mean_P_LV_z  \\\n",
       "count  11713.000000  11713.000000  11713.000000  11713.000000  11713.000000   \n",
       "mean       0.074057      0.097901     -0.037435     -0.122667      0.209347   \n",
       "std        0.088439      0.068144      0.201065      0.191047      0.156459   \n",
       "min       -0.083246     -0.064444     -0.638404     -0.603061     -0.329280   \n",
       "25%       -0.012952      0.060048     -0.145478     -0.246488      0.136031   \n",
       "50%        0.065141      0.092153     -0.038784     -0.129722      0.194861   \n",
       "75%        0.132739      0.143199      0.077824     -0.016198      0.282449   \n",
       "max        0.243392      0.235834      0.593941      0.404195      0.717016   \n",
       "\n",
       "       ...    med_W_AO_x    med_W_AO_y    med_W_AO_z    med_W_AA_x  \\\n",
       "count  ...  11713.000000  11713.000000  11713.000000  11713.000000   \n",
       "mean   ...     -0.115606      0.073965      0.246505      0.016049   \n",
       "std    ...      0.001048      0.001909      0.001310      0.001731   \n",
       "min    ...     -0.126946      0.048016      0.232853      0.000246   \n",
       "25%    ...     -0.115808      0.073638      0.246139      0.015795   \n",
       "50%    ...     -0.115622      0.073698      0.246178      0.016084   \n",
       "75%    ...     -0.115450      0.073860      0.246523      0.016308   \n",
       "max    ...     -0.101579      0.110187      0.257109      0.030638   \n",
       "\n",
       "         med_W_AA_y    med_W_AA_z    med_W_AV_x    med_W_AV_y    med_W_AV_z  \\\n",
       "count  11713.000000  11713.000000  11713.000000  11713.000000  11713.000000   \n",
       "mean       0.002829     -0.137880     -0.000160      0.013133      0.306347   \n",
       "std        0.003569      0.003093      0.005264      0.008963      0.010669   \n",
       "min       -0.035686     -0.167692     -0.053521     -0.055623      0.195787   \n",
       "25%        0.003052     -0.137811     -0.000885      0.011567      0.304155   \n",
       "50%        0.003323     -0.137416      0.000170      0.012026      0.304566   \n",
       "75%        0.003432     -0.137336      0.000868      0.012810      0.305847   \n",
       "max        0.035550     -0.111932      0.037756      0.087049      0.386481   \n",
       "\n",
       "           activity  \n",
       "count  11713.000000  \n",
       "mean       8.529412  \n",
       "std        5.196318  \n",
       "min        0.000000  \n",
       "25%        4.000000  \n",
       "50%        9.000000  \n",
       "75%       13.000000  \n",
       "max       17.000000  \n",
       "\n",
       "[8 rows x 110 columns]"
      ]
     },
     "execution_count": 4,
     "metadata": {},
     "output_type": "execute_result"
    }
   ],
   "source": [
    "df.describe()"
   ]
  },
  {
   "cell_type": "markdown",
   "metadata": {},
   "source": [
    "# Feature Selection\n",
    "There are five methods used to identify features to remove:\n",
    "\n",
    "1. Missing Values\n",
    "2. Single Unique Values\n",
    "3. Collinear Features\n",
    "4. Zero Importance Features\n",
    "5. Low Importance Features\n",
    "### https://github.com/WillKoehrsen/feature-selector/blob/master/Feature%20Selector%20Usage.ipynb"
   ]
  },
  {
   "cell_type": "code",
   "execution_count": 9,
   "metadata": {
    "scrolled": true
   },
   "outputs": [
    {
     "name": "stdout",
     "output_type": "stream",
     "text": [
      "0 features with greater than 0.60 missing values.\n",
      "\n",
      "0 features with a single unique value.\n",
      "\n",
      "16 features with a correlation magnitude greater than 0.98.\n",
      "\n",
      "Training Gradient Boosting Model\n",
      "\n",
      "Training until validation scores don't improve for 100 rounds\n",
      "Early stopping, best iteration is:\n",
      "[381]\tvalid_0's multi_logloss: 0.149412\n",
      "Training until validation scores don't improve for 100 rounds\n",
      "Early stopping, best iteration is:\n",
      "[436]\tvalid_0's multi_logloss: 0.146232\n",
      "Training until validation scores don't improve for 100 rounds\n",
      "Early stopping, best iteration is:\n",
      "[627]\tvalid_0's multi_logloss: 0.161422\n",
      "Training until validation scores don't improve for 100 rounds\n",
      "Early stopping, best iteration is:\n",
      "[498]\tvalid_0's multi_logloss: 0.155135\n",
      "Training until validation scores don't improve for 100 rounds\n",
      "Early stopping, best iteration is:\n",
      "[423]\tvalid_0's multi_logloss: 0.137963\n",
      "Training until validation scores don't improve for 100 rounds\n",
      "Early stopping, best iteration is:\n",
      "[568]\tvalid_0's multi_logloss: 0.146172\n",
      "Training until validation scores don't improve for 100 rounds\n",
      "Early stopping, best iteration is:\n",
      "[438]\tvalid_0's multi_logloss: 0.142191\n",
      "Training until validation scores don't improve for 100 rounds\n",
      "Early stopping, best iteration is:\n",
      "[491]\tvalid_0's multi_logloss: 0.175003\n",
      "Training until validation scores don't improve for 100 rounds\n",
      "Early stopping, best iteration is:\n",
      "[499]\tvalid_0's multi_logloss: 0.154903\n",
      "Training until validation scores don't improve for 100 rounds\n",
      "Early stopping, best iteration is:\n",
      "[815]\tvalid_0's multi_logloss: 0.159212\n",
      "\n",
      "0 features with zero importance after one-hot encoding.\n",
      "\n",
      "101 features required for cumulative importance of 0.99 after one hot encoding.\n",
      "7 features do not contribute to cumulative importance of 0.99.\n",
      "\n",
      "20 total features out of 108 identified for removal after one-hot encoding.\n",
      "\n",
      "['missing', 'single_unique', 'collinear', 'zero_importance', 'low_importance'] methods have been run\n",
      "\n",
      "Removed 20 features including one-hot features.\n"
     ]
    }
   ],
   "source": [
    "from feature_selector import FeatureSelector\n",
    "X= df.drop(['user', 'activity'], axis=1)\n",
    "y= df['activity']\n",
    "\n",
    "fs = FeatureSelector(data = X, labels = y)\n",
    "fs = FeatureSelector(data = X, labels = y)\n",
    "fs.identify_all(selection_params = {'missing_threshold': 0.6, 'correlation_threshold': 0.98, \n",
    "                                    'task': 'classification', 'eval_metric': 'multi_logloss', \n",
    "                                     'cumulative_importance': 0.99})\n",
    "\n",
    "train_removed_all_once = fs.remove(methods = 'all', keep_one_hot = False)"
   ]
  },
  {
   "cell_type": "code",
   "execution_count": 10,
   "metadata": {},
   "outputs": [],
   "source": [
    "important_features=list(train_removed_all_once.columns)"
   ]
  },
  {
   "cell_type": "code",
   "execution_count": 18,
   "metadata": {},
   "outputs": [],
   "source": [
    "import pickle\n",
    "\n",
    "with open('features.pkl', 'wb') as f:\n",
    "    pickle.dump(important_features, f)"
   ]
  },
  {
   "cell_type": "code",
   "execution_count": 5,
   "metadata": {},
   "outputs": [],
   "source": [
    "import pickle\n",
    "file = open('features.pkl', 'rb')\n",
    "\n",
    "# dump information to that file\n",
    "important_features = pickle.load(file)"
   ]
  },
  {
   "cell_type": "code",
   "execution_count": 18,
   "metadata": {},
   "outputs": [],
   "source": [
    "print('Original Number of Features', X.shape[1])\n",
    "print('Final Number of Features: ', train_removed_all_once.shape[1])\n"
   ]
  },
  {
   "cell_type": "markdown",
   "metadata": {},
   "source": [
    "# Train-Test Split\n",
    "\n",
    "### 80 - 20 Ratio Selected.\n",
    "1. Train Set represents Subject 0-39\n",
    "2. Test Set represents Subject 40-49"
   ]
  },
  {
   "cell_type": "code",
   "execution_count": 7,
   "metadata": {},
   "outputs": [],
   "source": [
    "# Train-Test Split (80-20). Users 40-49 are test set\n",
    "\n",
    "train_set=df[df['user']<=39]\n",
    "test_set=df[df['user']>39]\n",
    "\n",
    "\n",
    "X_train = train_set[important_features]\n",
    "X_test = test_set[important_features]\n",
    "y_train = train_set['activity']\n",
    "y_test =  test_set['activity']"
   ]
  },
  {
   "cell_type": "markdown",
   "metadata": {},
   "source": [
    "\n",
    "# Training our base model for Random-Forest classifier\n",
    "Random forests or random decision forests are an ensemble learning method for classification, regression and other tasks that operates by constructing a multitude of decision trees at training time and outputting the class that is the mode of the classes or mean prediction of the individual trees.\n",
    "https://en.wikipedia.org/wiki/Random_forest\n",
    "## We use default parameters of Scikit-Learn Random Forest Classifier for our base model"
   ]
  },
  {
   "cell_type": "code",
   "execution_count": 8,
   "metadata": {},
   "outputs": [
    {
     "name": "stderr",
     "output_type": "stream",
     "text": [
      "/home/ec2-user/anaconda3/envs/python3/lib/python3.6/site-packages/sklearn/ensemble/forest.py:246: FutureWarning: The default value of n_estimators will change from 10 in version 0.20 to 100 in 0.22.\n",
      "  \"10 in version 0.20 to 100 in 0.22.\", FutureWarning)\n"
     ]
    },
    {
     "name": "stdout",
     "output_type": "stream",
     "text": [
      "Model Performance\n",
      "Accuracy = 63.95%.\n"
     ]
    }
   ],
   "source": [
    "from sklearn.ensemble import RandomForestClassifier\n",
    "from sklearn.metrics import accuracy_score\n",
    "# First create the base model to tune\n",
    "rf = RandomForestClassifier()\n",
    "\n",
    "def evaluate(model, test_features, test_labels):\n",
    "    predictions = model.predict(test_features)\n",
    "    accuracy=accuracy_score(test_labels, predictions)\n",
    "    print('Model Performance')\n",
    "    print('Accuracy = {:0.2f}%.'.format(accuracy*100))\n",
    "    return accuracy\n",
    "base_model =  RandomForestClassifier()\n",
    "\n",
    "\n",
    "base_model.fit(X_train, y_train)\n",
    "base_accuracy = evaluate(base_model, X_test, y_test)\n",
    "\n"
   ]
  },
  {
   "cell_type": "markdown",
   "metadata": {},
   "source": [
    "# F1-Scores and Confusion Matrix"
   ]
  },
  {
   "cell_type": "code",
   "execution_count": 9,
   "metadata": {},
   "outputs": [
    {
     "name": "stdout",
     "output_type": "stream",
     "text": [
      "              precision    recall  f1-score   support\n",
      "\n",
      "           0       0.74      0.55      0.63       143\n",
      "           1       0.98      0.97      0.97       143\n",
      "           2       0.55      0.71      0.62       117\n",
      "           3       0.58      0.69      0.63       143\n",
      "           4       0.69      0.83      0.76       130\n",
      "           5       0.67      0.89      0.76       130\n",
      "           6       0.75      0.81      0.78       143\n",
      "           7       0.47      0.46      0.46       143\n",
      "           8       0.36      0.42      0.38       130\n",
      "           9       0.38      0.30      0.34       143\n",
      "          10       0.57      0.53      0.55       143\n",
      "          11       0.24      0.18      0.21       130\n",
      "          12       0.64      0.69      0.67       143\n",
      "          13       0.61      0.63      0.62       143\n",
      "          14       0.93      0.57      0.70       143\n",
      "          15       0.88      0.72      0.79       130\n",
      "          16       0.88      0.72      0.79       143\n",
      "          17       0.67      0.85      0.75       143\n",
      "\n",
      "   micro avg       0.64      0.64      0.64      2483\n",
      "   macro avg       0.64      0.64      0.63      2483\n",
      "weighted avg       0.65      0.64      0.64      2483\n",
      "\n"
     ]
    }
   ],
   "source": [
    "from sklearn.metrics import classification_report, confusion_matrix\n",
    "predictions = base_model.predict(X_test)\n",
    "\n",
    "print(classification_report(y_test, predictions))\n",
    "\n",
    "\n"
   ]
  },
  {
   "cell_type": "code",
   "execution_count": 11,
   "metadata": {},
   "outputs": [
    {
     "data": {
      "text/plain": [
       "<matplotlib.axes._subplots.AxesSubplot at 0x7f0be4e98fd0>"
      ]
     },
     "execution_count": 11,
     "metadata": {},
     "output_type": "execute_result"
    },
    {
     "data": {
      "image/png": "[encoded data removed]",
      "text/plain": [
       "<Figure size 720x504 with 2 Axes>"
      ]
     },
     "metadata": {},
     "output_type": "display_data"
    }
   ],
   "source": [
    "labels = []\n",
    "labels.extend(range(0, 18))\n",
    "import seaborn as sn\n",
    "import pandas as pd\n",
    "import matplotlib.pyplot as plt\n",
    "df_cm = pd.DataFrame(confusion_matrix(y_test, predictions), index = [i for i in labels],\n",
    "                  columns = [i for i in labels])\n",
    "plt.figure(figsize = (10,7))\n",
    "sn.heatmap(df_cm, annot=True,fmt='g',cmap='Blues')"
   ]
  },
  {
   "cell_type": "markdown",
   "metadata": {},
   "source": [
    "# Hyper Parameter Optimization\n",
    "### 1. Randomized Cross Validation Search"
   ]
  },
  {
   "cell_type": "code",
   "execution_count": 14,
   "metadata": {},
   "outputs": [
    {
     "name": "stdout",
     "output_type": "stream",
     "text": [
      "{'n_estimators': [200, 400, 600, 800, 1000, 1200, 1400, 1600, 1800, 2000], 'max_features': ['auto', 'sqrt'], 'max_depth': [10, 20, 30, 40, 50, 60, 70, 80, 90, 100, 110, None], 'min_samples_split': [2, 5, 10], 'min_samples_leaf': [1, 2, 4], 'bootstrap': [True, False]}\n"
     ]
    }
   ],
   "source": [
    "from sklearn.model_selection import RandomizedSearchCV\n",
    "import numpy as np\n",
    "# Number of trees in random forest\n",
    "n_estimators = [int(x) for x in np.linspace(start = 200, stop = 2000, num = 10)]\n",
    "# Number of features to consider at every split\n",
    "max_features = ['auto', 'sqrt']\n",
    "# Maximum number of levels in tree\n",
    "max_depth = [int(x) for x in np.linspace(10, 110, num = 11)]\n",
    "max_depth.append(None)\n",
    "# Minimum number of samples required to split a node\n",
    "min_samples_split = [2, 5, 10]\n",
    "# Minimum number of samples required at each leaf node\n",
    "min_samples_leaf = [1, 2, 4]\n",
    "# Method of selecting samples for training each tree\n",
    "bootstrap = [True, False]\n",
    "# Create the random grid\n",
    "random_grid = {'n_estimators': n_estimators,\n",
    "               'max_features': max_features,\n",
    "               'max_depth': max_depth,\n",
    "               'min_samples_split': min_samples_split,\n",
    "               'min_samples_leaf': min_samples_leaf,\n",
    "               'bootstrap': bootstrap}\n",
    "print(random_grid)\n",
    "\n"
   ]
  },
  {
   "cell_type": "code",
   "execution_count": null,
   "metadata": {
    "scrolled": true
   },
   "outputs": [
    {
     "name": "stdout",
     "output_type": "stream",
     "text": [
      "Fitting 3 folds for each of 100 candidates, totalling 300 fits\n"
     ]
    },
    {
     "name": "stderr",
     "output_type": "stream",
     "text": [
      "[Parallel(n_jobs=-1)]: Using backend LokyBackend with 4 concurrent workers.\n",
      "/home/ec2-user/anaconda3/envs/python3/lib/python3.6/site-packages/sklearn/externals/joblib/externals/loky/process_executor.py:706: UserWarning: A worker stopped while some jobs were given to the executor. This can be caused by a too short worker timeout or by a memory leak.\n",
      "  \"timeout or by a memory leak.\", UserWarning\n",
      "/home/ec2-user/anaconda3/envs/python3/lib/python3.6/site-packages/sklearn/externals/joblib/externals/loky/process_executor.py:706: UserWarning: A worker stopped while some jobs were given to the executor. This can be caused by a too short worker timeout or by a memory leak.\n",
      "  \"timeout or by a memory leak.\", UserWarning\n",
      "/home/ec2-user/anaconda3/envs/python3/lib/python3.6/site-packages/sklearn/externals/joblib/externals/loky/process_executor.py:706: UserWarning: A worker stopped while some jobs were given to the executor. This can be caused by a too short worker timeout or by a memory leak.\n",
      "  \"timeout or by a memory leak.\", UserWarning\n",
      "/home/ec2-user/anaconda3/envs/python3/lib/python3.6/site-packages/sklearn/externals/joblib/externals/loky/process_executor.py:706: UserWarning: A worker stopped while some jobs were given to the executor. This can be caused by a too short worker timeout or by a memory leak.\n",
      "  \"timeout or by a memory leak.\", UserWarning\n",
      "/home/ec2-user/anaconda3/envs/python3/lib/python3.6/site-packages/sklearn/externals/joblib/externals/loky/process_executor.py:706: UserWarning: A worker stopped while some jobs were given to the executor. This can be caused by a too short worker timeout or by a memory leak.\n",
      "  \"timeout or by a memory leak.\", UserWarning\n",
      "/home/ec2-user/anaconda3/envs/python3/lib/python3.6/site-packages/sklearn/externals/joblib/externals/loky/process_executor.py:706: UserWarning: A worker stopped while some jobs were given to the executor. This can be caused by a too short worker timeout or by a memory leak.\n",
      "  \"timeout or by a memory leak.\", UserWarning\n",
      "[Parallel(n_jobs=-1)]: Done  33 tasks      | elapsed: 16.0min\n",
      "/home/ec2-user/anaconda3/envs/python3/lib/python3.6/site-packages/sklearn/externals/joblib/externals/loky/process_executor.py:706: UserWarning: A worker stopped while some jobs were given to the executor. This can be caused by a too short worker timeout or by a memory leak.\n",
      "  \"timeout or by a memory leak.\", UserWarning\n",
      "/home/ec2-user/anaconda3/envs/python3/lib/python3.6/site-packages/sklearn/externals/joblib/externals/loky/process_executor.py:706: UserWarning: A worker stopped while some jobs were given to the executor. This can be caused by a too short worker timeout or by a memory leak.\n",
      "  \"timeout or by a memory leak.\", UserWarning\n",
      "/home/ec2-user/anaconda3/envs/python3/lib/python3.6/site-packages/sklearn/externals/joblib/externals/loky/process_executor.py:706: UserWarning: A worker stopped while some jobs were given to the executor. This can be caused by a too short worker timeout or by a memory leak.\n",
      "  \"timeout or by a memory leak.\", UserWarning\n",
      "/home/ec2-user/anaconda3/envs/python3/lib/python3.6/site-packages/sklearn/externals/joblib/externals/loky/process_executor.py:706: UserWarning: A worker stopped while some jobs were given to the executor. This can be caused by a too short worker timeout or by a memory leak.\n",
      "  \"timeout or by a memory leak.\", UserWarning\n",
      "/home/ec2-user/anaconda3/envs/python3/lib/python3.6/site-packages/sklearn/externals/joblib/externals/loky/process_executor.py:706: UserWarning: A worker stopped while some jobs were given to the executor. This can be caused by a too short worker timeout or by a memory leak.\n",
      "  \"timeout or by a memory leak.\", UserWarning\n",
      "/home/ec2-user/anaconda3/envs/python3/lib/python3.6/site-packages/sklearn/externals/joblib/externals/loky/process_executor.py:706: UserWarning: A worker stopped while some jobs were given to the executor. This can be caused by a too short worker timeout or by a memory leak.\n",
      "  \"timeout or by a memory leak.\", UserWarning\n",
      "/home/ec2-user/anaconda3/envs/python3/lib/python3.6/site-packages/sklearn/externals/joblib/externals/loky/process_executor.py:706: UserWarning: A worker stopped while some jobs were given to the executor. This can be caused by a too short worker timeout or by a memory leak.\n",
      "  \"timeout or by a memory leak.\", UserWarning\n",
      "/home/ec2-user/anaconda3/envs/python3/lib/python3.6/site-packages/sklearn/externals/joblib/externals/loky/process_executor.py:706: UserWarning: A worker stopped while some jobs were given to the executor. This can be caused by a too short worker timeout or by a memory leak.\n",
      "  \"timeout or by a memory leak.\", UserWarning\n",
      "[Parallel(n_jobs=-1)]: Done 154 tasks      | elapsed: 71.4min\n",
      "/home/ec2-user/anaconda3/envs/python3/lib/python3.6/site-packages/sklearn/externals/joblib/externals/loky/process_executor.py:706: UserWarning: A worker stopped while some jobs were given to the executor. This can be caused by a too short worker timeout or by a memory leak.\n",
      "  \"timeout or by a memory leak.\", UserWarning\n",
      "/home/ec2-user/anaconda3/envs/python3/lib/python3.6/site-packages/sklearn/externals/joblib/externals/loky/process_executor.py:706: UserWarning: A worker stopped while some jobs were given to the executor. This can be caused by a too short worker timeout or by a memory leak.\n",
      "  \"timeout or by a memory leak.\", UserWarning\n",
      "/home/ec2-user/anaconda3/envs/python3/lib/python3.6/site-packages/sklearn/externals/joblib/externals/loky/process_executor.py:706: UserWarning: A worker stopped while some jobs were given to the executor. This can be caused by a too short worker timeout or by a memory leak.\n",
      "  \"timeout or by a memory leak.\", UserWarning\n",
      "/home/ec2-user/anaconda3/envs/python3/lib/python3.6/site-packages/sklearn/externals/joblib/externals/loky/process_executor.py:706: UserWarning: A worker stopped while some jobs were given to the executor. This can be caused by a too short worker timeout or by a memory leak.\n",
      "  \"timeout or by a memory leak.\", UserWarning\n",
      "/home/ec2-user/anaconda3/envs/python3/lib/python3.6/site-packages/sklearn/externals/joblib/externals/loky/process_executor.py:706: UserWarning: A worker stopped while some jobs were given to the executor. This can be caused by a too short worker timeout or by a memory leak.\n",
      "  \"timeout or by a memory leak.\", UserWarning\n",
      "/home/ec2-user/anaconda3/envs/python3/lib/python3.6/site-packages/sklearn/externals/joblib/externals/loky/process_executor.py:706: UserWarning: A worker stopped while some jobs were given to the executor. This can be caused by a too short worker timeout or by a memory leak.\n",
      "  \"timeout or by a memory leak.\", UserWarning\n",
      "/home/ec2-user/anaconda3/envs/python3/lib/python3.6/site-packages/sklearn/externals/joblib/externals/loky/process_executor.py:706: UserWarning: A worker stopped while some jobs were given to the executor. This can be caused by a too short worker timeout or by a memory leak.\n",
      "  \"timeout or by a memory leak.\", UserWarning\n",
      "[Parallel(n_jobs=-1)]: Done 300 out of 300 | elapsed: 133.7min finished\n"
     ]
    },
    {
     "data": {
      "text/plain": [
       "RandomizedSearchCV(cv=3, error_score='raise-deprecating',\n",
       "          estimator=RandomForestClassifier(bootstrap=True, class_weight=None, criterion='gini',\n",
       "            max_depth=None, max_features='auto', max_leaf_nodes=None,\n",
       "            min_impurity_decrease=0.0, min_impurity_split=None,\n",
       "            min_samples_leaf=1, min_samples_split=2,\n",
       "            min_weight_fraction_leaf=0.0, n_estimators='warn', n_jobs=None,\n",
       "            oob_score=False, random_state=None, verbose=0,\n",
       "            warm_start=False),\n",
       "          fit_params=None, iid='warn', n_iter=100, n_jobs=-1,\n",
       "          param_distributions={'n_estimators': [200, 400, 600, 800, 1000, 1200, 1400, 1600, 1800, 2000], 'max_features': ['auto', 'sqrt'], 'max_depth': [10, 20, 30, 40, 50, 60, 70, 80, 90, 100, 110, None], 'min_samples_split': [2, 5, 10], 'min_samples_leaf': [1, 2, 4], 'bootstrap': [True, False]},\n",
       "          pre_dispatch='2*n_jobs', random_state=42, refit=True,\n",
       "          return_train_score='warn', scoring=None, verbose=2)"
      ]
     },
     "execution_count": 15,
     "metadata": {},
     "output_type": "execute_result"
    }
   ],
   "source": [
    "# Use the random grid to search for best hyperparameters\n",
    "from sklearn.ensemble import RandomForestClassifier\n",
    "# First create the base model to tune\n",
    "rf = RandomForestClassifier()\n",
    "# Random search of parameters, using 3 fold cross validation, \n",
    "# search across 100 different combinations, and use all available cores\n",
    "rf_random = RandomizedSearchCV(estimator = rf, param_distributions = random_grid, n_iter = 100, cv = 3, verbose=2, random_state=42, n_jobs = -1)\n",
    "# Fit the random search model\n",
    "rf_random.fit(X_train, y_train)"
   ]
  },
  {
   "cell_type": "code",
   "execution_count": null,
   "metadata": {},
   "outputs": [
    {
     "name": "stdout",
     "output_type": "stream",
     "text": [
      "Model Performance\n",
      "Accuracy = 70.76%.\n",
      "Improvement of 7.92%.\n"
     ]
    }
   ],
   "source": [
    "\n",
    "best_random = rf_random.best_estimator_\n",
    "random_accuracy = evaluate(best_random, X_test, y_test)\n",
    "print('Improvement of {:0.2f}%.'.format( 100 * (random_accuracy - base_accuracy) / base_accuracy))\n",
    "\n"
   ]
  },
  {
   "cell_type": "code",
   "execution_count": null,
   "metadata": {},
   "outputs": [
    {
     "name": "stdout",
     "output_type": "stream",
     "text": [
      "{'n_estimators': 1000, 'min_samples_split': 2, 'min_samples_leaf': 1, 'max_features': 'sqrt', 'max_depth': 110, 'bootstrap': True}\n"
     ]
    }
   ],
   "source": [
    "print(rf_random.best_params_)"
   ]
  },
  {
   "cell_type": "markdown",
   "metadata": {},
   "source": [
    "### 2. Grid Cross-Validation Search on narrowed down search space"
   ]
  },
  {
   "cell_type": "code",
   "execution_count": 19,
   "metadata": {},
   "outputs": [],
   "source": [
    "from sklearn.model_selection import GridSearchCV\n",
    "# Create the parameter grid based on the results of random search \n",
    "param_grid = {\n",
    "    'bootstrap': [True],\n",
    "    'max_depth': [100,110,120],\n",
    "    'max_features': ['sqrt'],\n",
    "    'min_samples_leaf': [1,2,3],\n",
    "    'min_samples_split': [2,4],\n",
    "    'n_estimators': [900,1000,1100]\n",
    "}\n",
    "# Create a based model\n",
    "rf = RandomForestClassifier()\n",
    "# Instantiate the grid search model\n",
    "grid_search = GridSearchCV(estimator = rf, param_grid = param_grid, \n",
    "                          cv = 3, n_jobs = -1, verbose = 2)"
   ]
  },
  {
   "cell_type": "code",
   "execution_count": null,
   "metadata": {
    "scrolled": true
   },
   "outputs": [
    {
     "name": "stdout",
     "output_type": "stream",
     "text": [
      "Fitting 3 folds for each of 54 candidates, totalling 162 fits\n"
     ]
    },
    {
     "name": "stderr",
     "output_type": "stream",
     "text": [
      "[Parallel(n_jobs=-1)]: Using backend LokyBackend with 4 concurrent workers.\n",
      "/home/ec2-user/anaconda3/envs/python3/lib/python3.6/site-packages/sklearn/externals/joblib/externals/loky/process_executor.py:706: UserWarning: A worker stopped while some jobs were given to the executor. This can be caused by a too short worker timeout or by a memory leak.\n",
      "  \"timeout or by a memory leak.\", UserWarning\n",
      "/home/ec2-user/anaconda3/envs/python3/lib/python3.6/site-packages/sklearn/externals/joblib/externals/loky/process_executor.py:706: UserWarning: A worker stopped while some jobs were given to the executor. This can be caused by a too short worker timeout or by a memory leak.\n",
      "  \"timeout or by a memory leak.\", UserWarning\n",
      "[Parallel(n_jobs=-1)]: Done  33 tasks      | elapsed: 13.3min\n",
      "/home/ec2-user/anaconda3/envs/python3/lib/python3.6/site-packages/sklearn/externals/joblib/externals/loky/process_executor.py:706: UserWarning: A worker stopped while some jobs were given to the executor. This can be caused by a too short worker timeout or by a memory leak.\n",
      "  \"timeout or by a memory leak.\", UserWarning\n",
      "/home/ec2-user/anaconda3/envs/python3/lib/python3.6/site-packages/sklearn/externals/joblib/externals/loky/process_executor.py:706: UserWarning: A worker stopped while some jobs were given to the executor. This can be caused by a too short worker timeout or by a memory leak.\n",
      "  \"timeout or by a memory leak.\", UserWarning\n"
     ]
    }
   ],
   "source": [
    "# Fit the grid search to the data\n",
    "grid_search.fit(X_train, y_train)\n",
    "grid_search.best_params_\n",
    "\n",
    "\n"
   ]
  },
  {
   "cell_type": "code",
   "execution_count": null,
   "metadata": {},
   "outputs": [],
   "source": [
    "best_grid = grid_search.best_estimator_\n",
    "grid_accuracy = evaluate(best_grid, X_test, y_test)\n",
    "print('Improvement of {:0.2f}%.'.format( 100 * (grid_accuracy - base_accuracy) / base_accuracy))\n",
    "\n"
   ]
  },
  {
   "cell_type": "markdown",
   "metadata": {},
   "source": [
    "# Final Model on best parameters"
   ]
  },
  {
   "cell_type": "code",
   "execution_count": 15,
   "metadata": {},
   "outputs": [
    {
     "name": "stdout",
     "output_type": "stream",
     "text": [
      "Model Performance\n",
      "Accuracy = 0.71%.\n"
     ]
    }
   ],
   "source": [
    "from sklearn.ensemble import RandomForestClassifier\n",
    "from sklearn.metrics import accuracy_score\n",
    "clf = RandomForestClassifier(n_estimators= 1000,\n",
    "min_samples_split=2, \n",
    "min_samples_leaf=1, \n",
    "max_features='sqrt', \n",
    "max_depth= 110, \n",
    "bootstrap= True)\n",
    "clf.fit(X_train, y_train)\n",
    "\n",
    "predictions = clf.predict(X_test)\n",
    "accuracy=accuracy_score(y_test, predictions)\n",
    "print('Model Performance')\n",
    "print('Accuracy = {:0.2f}%.'.format(accuracy))"
   ]
  },
  {
   "cell_type": "markdown",
   "metadata": {},
   "source": [
    "# F1 scores and Confusion Matrix"
   ]
  },
  {
   "cell_type": "code",
   "execution_count": 16,
   "metadata": {},
   "outputs": [
    {
     "name": "stdout",
     "output_type": "stream",
     "text": [
      "              precision    recall  f1-score   support\n",
      "\n",
      "           0       0.97      0.50      0.66       143\n",
      "           1       0.99      0.99      0.99       143\n",
      "           2       0.61      0.82      0.70       117\n",
      "           3       0.76      0.74      0.75       143\n",
      "           4       0.75      0.88      0.81       130\n",
      "           5       0.69      0.89      0.78       130\n",
      "           6       0.87      0.90      0.88       143\n",
      "           7       0.51      0.42      0.46       143\n",
      "           8       0.46      0.61      0.53       130\n",
      "           9       0.48      0.43      0.45       143\n",
      "          10       0.62      0.69      0.65       143\n",
      "          11       0.17      0.06      0.09       130\n",
      "          12       0.72      0.85      0.78       143\n",
      "          13       0.70      0.72      0.71       143\n",
      "          14       1.00      0.62      0.76       143\n",
      "          15       0.79      0.82      0.80       130\n",
      "          16       0.90      0.87      0.88       143\n",
      "          17       0.64      0.92      0.76       143\n",
      "\n",
      "   micro avg       0.71      0.71      0.71      2483\n",
      "   macro avg       0.70      0.71      0.69      2483\n",
      "weighted avg       0.71      0.71      0.69      2483\n",
      "\n"
     ]
    }
   ],
   "source": [
    "print(classification_report(y_test, predictions))\n",
    "\n"
   ]
  },
  {
   "cell_type": "code",
   "execution_count": 17,
   "metadata": {
    "scrolled": false
   },
   "outputs": [
    {
     "data": {
      "text/plain": [
       "<matplotlib.axes._subplots.AxesSubplot at 0x7f0be4b7d4a8>"
      ]
     },
     "execution_count": 17,
     "metadata": {},
     "output_type": "execute_result"
    },
    {
     "data": {
      "image/png": "[encoded data removed]",
      "text/plain": [
       "<Figure size 720x504 with 2 Axes>"
      ]
     },
     "metadata": {},
     "output_type": "display_data"
    }
   ],
   "source": [
    "labels = []\n",
    "labels.extend(range(0, 18))\n",
    "import seaborn as sn\n",
    "import pandas as pd\n",
    "import matplotlib.pyplot as plt\n",
    "df_cm = pd.DataFrame(confusion_matrix(y_test, predictions), index = [i for i in labels],\n",
    "                  columns = [i for i in labels])\n",
    "plt.figure(figsize = (10,7))\n",
    "sn.heatmap(df_cm, annot=True,fmt='g',cmap='Blues')"
   ]
  },
  {
   "cell_type": "code",
   "execution_count": null,
   "metadata": {},
   "outputs": [],
   "source": []
  }
 ],
 "metadata": {
  "kernelspec": {
   "display_name": "Python 3",
   "language": "python",
   "name": "python3"
  },
  "language_info": {
   "codemirror_mode": {
    "name": "ipython",
    "version": 3
   },
   "file_extension": ".py",
   "mimetype": "text/x-python",
   "name": "python",
   "nbconvert_exporter": "python",
   "pygments_lexer": "ipython3",
   "version": "3.7.4"
  }
 },
 "nbformat": 4,
 "nbformat_minor": 2
}